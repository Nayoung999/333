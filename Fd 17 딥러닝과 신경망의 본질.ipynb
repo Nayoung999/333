{
 "cells": [
  {
   "cell_type": "code",
   "execution_count": 2,
   "id": "6e3c540a",
   "metadata": {},
   "outputs": [],
   "source": [
    "def f(x):\n",
    "    y = 3 * x + 2\n",
    "    return y"
   ]
  },
  {
   "cell_type": "code",
   "execution_count": 3,
   "id": "1b2452e3",
   "metadata": {},
   "outputs": [
    {
     "data": {
      "text/plain": [
       "17"
      ]
     },
     "execution_count": 3,
     "metadata": {},
     "output_type": "execute_result"
    }
   ],
   "source": [
    "x = 5\n",
    "\n",
    "y = f(x)   # 3 * 5 + 2 = 17\n",
    "y"
   ]
  },
  {
   "cell_type": "code",
   "execution_count": 10,
   "id": "9482f05d",
   "metadata": {},
   "outputs": [
    {
     "data": {
      "text/plain": [
       "17"
      ]
     },
     "execution_count": 10,
     "metadata": {},
     "output_type": "execute_result"
    }
   ],
   "source": [
    "import math     # 자연상수 e처리를 위해 python에 내장된 math 라이브러리 이용하기. \n",
    "\n",
    "def f(x):\n",
    "    x**2 + math.exp(x+1)\n",
    "    return y\n",
    "f(5)"
   ]
  },
  {
   "cell_type": "code",
   "execution_count": 11,
   "id": "dff0a36a",
   "metadata": {},
   "outputs": [],
   "source": [
    "import numpy as np\n",
    "\n",
    "def linear_transformation(X, A):\n",
    "    transformed_vector = np.matmul(X, A)\n",
    "    return transformed_vector"
   ]
  },
  {
   "cell_type": "code",
   "execution_count": 12,
   "id": "76570733",
   "metadata": {},
   "outputs": [
    {
     "data": {
      "text/plain": [
       "array([5, 2])"
      ]
     },
     "execution_count": 12,
     "metadata": {},
     "output_type": "execute_result"
    }
   ],
   "source": [
    "# X가 A의 변환을 통해 옮겨지는 결과를 나타낸다. \n",
    "\n",
    "X = np.array([-1, 2])\n",
    "\n",
    "A = np.array([[1, -2],\n",
    "              [3, 0]])\n",
    "\n",
    "linear_transformation(X, A)"
   ]
  },
  {
   "cell_type": "code",
   "execution_count": null,
   "id": "e5ee885b",
   "metadata": {},
   "outputs": [],
   "source": []
  }
 ],
 "metadata": {
  "kernelspec": {
   "display_name": "Python 3 (ipykernel)",
   "language": "python",
   "name": "python3"
  },
  "language_info": {
   "codemirror_mode": {
    "name": "ipython",
    "version": 3
   },
   "file_extension": ".py",
   "mimetype": "text/x-python",
   "name": "python",
   "nbconvert_exporter": "python",
   "pygments_lexer": "ipython3",
   "version": "3.9.7"
  }
 },
 "nbformat": 4,
 "nbformat_minor": 5
}
